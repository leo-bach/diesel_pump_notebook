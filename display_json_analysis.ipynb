{
 "cells": [
  {
   "cell_type": "code",
   "execution_count": 1,
   "metadata": {
    "ExecuteTime": {
     "end_time": "2022-06-02T16:03:31.007485Z",
     "start_time": "2022-06-02T16:03:30.099969Z"
    }
   },
   "outputs": [],
   "source": [
    "import json\n",
    "import os\n",
    "import pandas as pd\n",
    "import plotly\n",
    "import plotly.graph_objects as go\n",
    "import plotly.express as px\n",
    "from ipywidgets import *"
   ]
  },
  {
   "cell_type": "markdown",
   "metadata": {},
   "source": [
    "# Date Range Select (Nice to Have)"
   ]
  },
  {
   "cell_type": "code",
   "execution_count": 2,
   "metadata": {
    "ExecuteTime": {
     "end_time": "2022-06-02T16:03:31.022483Z",
     "start_time": "2022-06-02T16:03:31.013489Z"
    }
   },
   "outputs": [],
   "source": [
    "# widgets.DatePicker(\n",
    "#     description='Pick a Date',\n",
    "#     disabled=False\n",
    "# )"
   ]
  },
  {
   "cell_type": "code",
   "execution_count": 3,
   "metadata": {
    "ExecuteTime": {
     "end_time": "2022-06-02T16:03:31.037484Z",
     "start_time": "2022-06-02T16:03:31.025487Z"
    }
   },
   "outputs": [],
   "source": [
    "def create_directories():\n",
    "    \"\"\"\n",
    "    BOILERPLATE: Setup folder for analysis data:\n",
    "    \"\"\"\n",
    "    parent_dir = os.getcwd()\n",
    "    directory = \"/Machine_Saver/Analysis_Data\"\n",
    "    path = os.path.join(parent_dir, directory)\n",
    "    os.makedirs(path, exist_ok = True)\n",
    "    os.chdir(path)\n",
    "\n",
    "create_directories()"
   ]
  },
  {
   "cell_type": "markdown",
   "metadata": {},
   "source": [
    "# High_Frequency_Sensor | Axis_1"
   ]
  },
  {
   "cell_type": "code",
   "execution_count": 4,
   "metadata": {
    "ExecuteTime": {
     "end_time": "2022-06-02T16:03:36.966971Z",
     "start_time": "2022-06-02T16:03:31.040491Z"
    },
    "code_folding": []
   },
   "outputs": [
    {
     "data": {
      "application/vnd.jupyter.widget-view+json": {
       "model_id": "1c22fd40f4d24d17b4f3696e24cf09ff",
       "version_major": 2,
       "version_minor": 0
      },
      "text/plain": [
       "interactive(children=(Dropdown(description='reference', options=('21030637_2022-06-02_08-53-51.json', '2103063…"
      ]
     },
     "metadata": {},
     "output_type": "display_data"
    }
   ],
   "source": [
    "create_directories()\n",
    "def f(reference, compare):\n",
    "    with open(reference) as f:\n",
    "        data_1 = json.load(f)\n",
    "\n",
    "    with open(compare) as f:\n",
    "        data_2 = json.load(f)\n",
    "\n",
    "    fig = go.Figure()\n",
    "    fig.update_xaxes(title_text=\"Time (Milliseconds)\")\n",
    "    fig.update_yaxes(title_text=\"Amplitude (GPK)\")\n",
    "    fig.update_layout(title_text=\"High_Frequency_Sensor | Axis_1 | Time Waveform\", title_x=0.5)\n",
    "    fig.add_trace(\n",
    "        go.Scatter(\n",
    "            x=data_1[\"twf_x\"],\n",
    "            y=data_1[\"axis_1_TWF\"],\n",
    "            mode=\"lines\",\n",
    "            line=go.scatter.Line(color=\"#4059ad\"),\n",
    "            opacity=1,\n",
    "            showlegend=True,\n",
    "            name=\"Reference\")\n",
    "    )\n",
    "    fig.add_trace(\n",
    "        go.Scatter(\n",
    "            x=data_2[\"twf_x\"],\n",
    "            y=data_2[\"axis_1_TWF\"],\n",
    "            mode=\"lines\",\n",
    "            line=go.scatter.Line(color=\"#ff3e41\"),\n",
    "            opacity=0.5,\n",
    "            showlegend=True,\n",
    "            name=\"Comparison\")\n",
    "    )\n",
    "    fig.show()\n",
    "    \n",
    "    fig_2 = go.Figure()\n",
    "    fig_2.update_xaxes(title_text=\"Time (Milliseconds)\")\n",
    "    fig_2.update_yaxes(title_text=\"Frequency (Hz)\")\n",
    "    fig_2.update_layout(title_text=\"High_Frequency_Sensor | Axis_1 | Acceleration Spectrum\", title_x=0.5)\n",
    "    fig_2.add_trace(\n",
    "        go.Scatter(\n",
    "            x=data_1[\"spectrum_x\"],\n",
    "            y=data_1[\"axis_1_SPEC\"],\n",
    "            mode=\"lines\",\n",
    "            line=go.scatter.Line(color=\"#4059ad\"),\n",
    "            opacity=1,\n",
    "            showlegend=True,\n",
    "            name=\"Reference\")\n",
    "    )\n",
    "    fig_2.add_trace(\n",
    "        go.Scatter(\n",
    "            x=data_2[\"spectrum_x\"],\n",
    "            y=data_2[\"axis_2_SPEC\"],\n",
    "            mode=\"lines\",\n",
    "            line=go.scatter.Line(color=\"#ff3e41\"),\n",
    "            opacity=0.5,\n",
    "            showlegend=True,\n",
    "            name=\"Comparison\")\n",
    "    )\n",
    "    fig_2.show()\n",
    "    \n",
    "    return(reference, compare)\n",
    "\n",
    "interact(f, reference=os.listdir(), compare=os.listdir());"
   ]
  },
  {
   "cell_type": "markdown",
   "metadata": {},
   "source": [
    "# High_Frequency_Sensor | Axis_2"
   ]
  },
  {
   "cell_type": "code",
   "execution_count": 5,
   "metadata": {
    "ExecuteTime": {
     "end_time": "2022-06-02T16:03:40.849470Z",
     "start_time": "2022-06-02T16:03:36.969972Z"
    },
    "code_folding": []
   },
   "outputs": [
    {
     "data": {
      "application/vnd.jupyter.widget-view+json": {
       "model_id": "0918068a93a24565b49be0ed27329061",
       "version_major": 2,
       "version_minor": 0
      },
      "text/plain": [
       "interactive(children=(Dropdown(description='reference', options=('21030637_2022-06-02_08-53-51.json', '2103063…"
      ]
     },
     "metadata": {},
     "output_type": "display_data"
    }
   ],
   "source": [
    "create_directories()\n",
    "def f(reference, compare):\n",
    "    with open(reference) as f:\n",
    "        data_1 = json.load(f)\n",
    "\n",
    "    with open(compare) as f:\n",
    "        data_2 = json.load(f)\n",
    "\n",
    "    fig = go.Figure()\n",
    "    fig.update_xaxes(title_text=\"Time (Milliseconds)\")\n",
    "    fig.update_yaxes(title_text=\"Amplitude (GPK)\")\n",
    "    fig.update_layout(title_text=\"High_Frequency_Sensor | Axis_2 | Time Waveform\", title_x=0.5)\n",
    "    fig.add_trace(\n",
    "        go.Scatter(\n",
    "            x=data_1[\"twf_x\"],\n",
    "            y=data_1[\"axis_2_TWF\"],\n",
    "            mode=\"lines\",\n",
    "            line=go.scatter.Line(color=\"#4059ad\"),\n",
    "            opacity=1,\n",
    "            showlegend=True,\n",
    "            name=\"Reference\")\n",
    "    )\n",
    "    fig.add_trace(\n",
    "        go.Scatter(\n",
    "            x=data_2[\"twf_x\"],\n",
    "            y=data_2[\"axis_2_TWF\"],\n",
    "            mode=\"lines\",\n",
    "            line=go.scatter.Line(color=\"#ff3e41\"),\n",
    "            opacity=0.5,\n",
    "            showlegend=True,\n",
    "            name=\"Comparison\")\n",
    "    )\n",
    "    fig.show()\n",
    "\n",
    "    \n",
    "    fig_2 = go.Figure()\n",
    "    fig_2.update_xaxes(title_text=\"Time (Milliseconds)\")\n",
    "    fig_2.update_yaxes(title_text=\"Frequency (Hz)\")\n",
    "    fig_2.update_layout(title_text=\"High_Frequency_Sensor | Axis_2 | Acceleration Spectrum\", title_x=0.5)\n",
    "    fig_2.add_trace(\n",
    "        go.Scatter(\n",
    "            x=data_1[\"spectrum_x\"],\n",
    "            y=data_1[\"axis_2_SPEC\"],\n",
    "            mode=\"lines\",\n",
    "            line=go.scatter.Line(color=\"#4059ad\"),\n",
    "            opacity=1,\n",
    "            showlegend=True,\n",
    "            name=\"Reference\")\n",
    "    )\n",
    "    fig_2.add_trace(\n",
    "        go.Scatter(\n",
    "            x=data_2[\"spectrum_x\"],\n",
    "            y=data_2[\"axis_2_SPEC\"],\n",
    "            mode=\"lines\",\n",
    "            line=go.scatter.Line(color=\"#ff3e41\"),\n",
    "            opacity=0.5,\n",
    "            showlegend=True,\n",
    "            name=\"Comparison\")\n",
    "    )\n",
    "    fig_2.show()\n",
    "    \n",
    "    return(reference, compare)\n",
    "\n",
    "interact(f, reference=os.listdir(), compare=os.listdir());"
   ]
  },
  {
   "cell_type": "markdown",
   "metadata": {},
   "source": [
    "# High_Frequency_Sensor | Axis_3"
   ]
  },
  {
   "cell_type": "code",
   "execution_count": 6,
   "metadata": {
    "ExecuteTime": {
     "end_time": "2022-06-02T16:03:44.284807Z",
     "start_time": "2022-06-02T16:03:40.852469Z"
    },
    "code_folding": []
   },
   "outputs": [
    {
     "data": {
      "application/vnd.jupyter.widget-view+json": {
       "model_id": "600c0cee59d741f89460d15e877c7a51",
       "version_major": 2,
       "version_minor": 0
      },
      "text/plain": [
       "interactive(children=(Dropdown(description='reference', options=('21030637_2022-06-02_08-53-51.json', '2103063…"
      ]
     },
     "metadata": {},
     "output_type": "display_data"
    }
   ],
   "source": [
    "create_directories()\n",
    "def f(reference, compare):\n",
    "    with open(reference) as f:\n",
    "        data_1 = json.load(f)\n",
    "\n",
    "    with open(compare) as f:\n",
    "        data_2 = json.load(f)\n",
    "\n",
    "    fig = go.Figure()\n",
    "    fig.update_xaxes(title_text=\"Time (Milliseconds)\")\n",
    "    fig.update_yaxes(title_text=\"Amplitude (GPK)\")\n",
    "    fig.update_layout(title_text=\"High_Frequency_Sensor | Axis_3 | Time Waveform\", title_x=0.5)\n",
    "    fig.add_trace(\n",
    "        go.Scatter(\n",
    "            x=data_1[\"twf_x\"],\n",
    "            y=data_1[\"axis_3_TWF\"],\n",
    "            mode=\"lines\",\n",
    "            line=go.scatter.Line(color=\"#4059ad\"),\n",
    "            opacity=1,\n",
    "            showlegend=True,\n",
    "            name=\"Reference\")\n",
    "    )\n",
    "    fig.add_trace(\n",
    "        go.Scatter(\n",
    "            x=data_2[\"twf_x\"],\n",
    "            y=data_2[\"axis_3_TWF\"],\n",
    "            mode=\"lines\",\n",
    "            line=go.scatter.Line(color=\"#ff3e41\"),\n",
    "            opacity=0.5,\n",
    "            showlegend=True,\n",
    "            name=\"Comparison\")\n",
    "    )\n",
    "    fig.show()\n",
    "\n",
    "    \n",
    "    fig_2 = go.Figure()\n",
    "    fig_2.update_xaxes(title_text=\"Time (Milliseconds)\")\n",
    "    fig_2.update_yaxes(title_text=\"Frequency (Hz)\")\n",
    "    fig_2.update_layout(title_text=\"High_Frequency_Sensor | Axis_3 | Acceleration Spectrum\", title_x=0.5)\n",
    "    fig_2.add_trace(\n",
    "        go.Scatter(\n",
    "            x=data_1[\"spectrum_x\"],\n",
    "            y=data_1[\"axis_3_SPEC\"],\n",
    "            mode=\"lines\",\n",
    "            line=go.scatter.Line(color=\"#4059ad\"),\n",
    "            opacity=1,\n",
    "            showlegend=True,\n",
    "            name=\"Reference\")\n",
    "    )\n",
    "    fig_2.add_trace(\n",
    "        go.Scatter(\n",
    "            x=data_2[\"spectrum_x\"],\n",
    "            y=data_2[\"axis_3_SPEC\"],\n",
    "            mode=\"lines\",\n",
    "            line=go.scatter.Line(color=\"#ff3e41\"),\n",
    "            opacity=0.5,\n",
    "            showlegend=True,\n",
    "            name=\"Comparison\")\n",
    "    )\n",
    "    fig_2.show()\n",
    "    \n",
    "    return(reference, compare)\n",
    "\n",
    "interact(f, reference=os.listdir(), compare=os.listdir());"
   ]
  }
 ],
 "metadata": {
  "kernelspec": {
   "display_name": "Python 3",
   "language": "python",
   "name": "python3"
  },
  "language_info": {
   "codemirror_mode": {
    "name": "ipython",
    "version": 3
   },
   "file_extension": ".py",
   "mimetype": "text/x-python",
   "name": "python",
   "nbconvert_exporter": "python",
   "pygments_lexer": "ipython3",
   "version": "3.8.5"
  },
  "toc": {
   "base_numbering": 1,
   "nav_menu": {},
   "number_sections": true,
   "sideBar": true,
   "skip_h1_title": false,
   "title_cell": "Table of Contents",
   "title_sidebar": "Contents",
   "toc_cell": false,
   "toc_position": {},
   "toc_section_display": true,
   "toc_window_display": false
  },
  "varInspector": {
   "cols": {
    "lenName": 16,
    "lenType": 16,
    "lenVar": 40
   },
   "kernels_config": {
    "python": {
     "delete_cmd_postfix": "",
     "delete_cmd_prefix": "del ",
     "library": "var_list.py",
     "varRefreshCmd": "print(var_dic_list())"
    },
    "r": {
     "delete_cmd_postfix": ") ",
     "delete_cmd_prefix": "rm(",
     "library": "var_list.r",
     "varRefreshCmd": "cat(var_dic_list()) "
    }
   },
   "types_to_exclude": [
    "module",
    "function",
    "builtin_function_or_method",
    "instance",
    "_Feature"
   ],
   "window_display": false
  }
 },
 "nbformat": 4,
 "nbformat_minor": 4
}
